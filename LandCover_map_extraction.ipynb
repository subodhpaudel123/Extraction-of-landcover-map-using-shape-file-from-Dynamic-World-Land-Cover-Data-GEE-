{
  "nbformat": 4,
  "nbformat_minor": 0,
  "metadata": {
    "colab": {
      "provenance": []
    },
    "kernelspec": {
      "name": "python3",
      "display_name": "Python 3"
    },
    "language_info": {
      "name": "python"
    }
  },
  "cells": [
    {
      "cell_type": "code",
      "execution_count": null,
      "metadata": {
        "colab": {
          "base_uri": "https://localhost:8080/",
          "height": 17
        },
        "id": "0ZcUwsVePqX4",
        "outputId": "a7077b7f-69d3-4fee-b732-1ef7c2e44a65"
      },
      "outputs": [
        {
          "output_type": "display_data",
          "data": {
            "text/plain": [
              "<IPython.core.display.HTML object>"
            ],
            "text/html": [
              "\n",
              "            <style>\n",
              "                .geemap-dark {\n",
              "                    --jp-widgets-color: white;\n",
              "                    --jp-widgets-label-color: white;\n",
              "                    --jp-ui-font-color1: white;\n",
              "                    --jp-layout-color2: #454545;\n",
              "                    background-color: #383838;\n",
              "                }\n",
              "\n",
              "                .geemap-dark .jupyter-button {\n",
              "                    --jp-layout-color3: #383838;\n",
              "                }\n",
              "\n",
              "                .geemap-colab {\n",
              "                    background-color: var(--colab-primary-surface-color, white);\n",
              "                }\n",
              "\n",
              "                .geemap-colab .jupyter-button {\n",
              "                    --jp-layout-color3: var(--colab-primary-surface-color, white);\n",
              "                }\n",
              "            </style>\n",
              "            "
            ]
          },
          "metadata": {}
        }
      ],
      "source": [
        "#Importing Necessary Libraries\n",
        "import ee\n",
        "import geopandas as gpd"
      ]
    },
    {
      "cell_type": "code",
      "source": [
        "ee.Authenticate()\n",
        "ee.Initialize(project='ee-subodhpaudel123')"
      ],
      "metadata": {
        "colab": {
          "base_uri": "https://localhost:8080/",
          "height": 17
        },
        "id": "xZvMpIXSP0Vo",
        "outputId": "23714ed7-3644-4969-dbee-f4ab5628f577"
      },
      "execution_count": null,
      "outputs": [
        {
          "output_type": "display_data",
          "data": {
            "text/plain": [
              "<IPython.core.display.HTML object>"
            ],
            "text/html": [
              "\n",
              "            <style>\n",
              "                .geemap-dark {\n",
              "                    --jp-widgets-color: white;\n",
              "                    --jp-widgets-label-color: white;\n",
              "                    --jp-ui-font-color1: white;\n",
              "                    --jp-layout-color2: #454545;\n",
              "                    background-color: #383838;\n",
              "                }\n",
              "\n",
              "                .geemap-dark .jupyter-button {\n",
              "                    --jp-layout-color3: #383838;\n",
              "                }\n",
              "\n",
              "                .geemap-colab {\n",
              "                    background-color: var(--colab-primary-surface-color, white);\n",
              "                }\n",
              "\n",
              "                .geemap-colab .jupyter-button {\n",
              "                    --jp-layout-color3: var(--colab-primary-surface-color, white);\n",
              "                }\n",
              "            </style>\n",
              "            "
            ]
          },
          "metadata": {}
        }
      ]
    },
    {
      "cell_type": "code",
      "source": [
        "#Defining the Export Function\n",
        "def export_dynamic_world(year,region,folder='Dynamicworldexports'):\n",
        "  start_date= ee.Date.fromYMD(year,1,1)\n",
        "  end_date= start_date.advance(1,'year')\n",
        "\n",
        "  dw= ee.ImageCollection('GOOGLE/DYNAMICWORLD/V1') \\\n",
        "  .filterDate(start_date,end_date)\\\n",
        "  .filterBounds(region)\\\n",
        "  .median().clip(region)\n",
        "\n",
        "  dw_image = dw.select('label').toInt()\n",
        "\n",
        "  task= ee.batch.Export.image.toDrive(\n",
        "      image= dw_image,\n",
        "      description= f\"Hetauda{year}\",\n",
        "      scale= 10,\n",
        "      region=region,\n",
        "      maxPixels=1e13,\n",
        "      crs='EPSG:4326'\n",
        "  )\n",
        "  task.start()\n",
        "  print(f\"Exporting Dynamic World data for Hetauda {year} to Google Drive...\")\n",
        "#Defining the Region of Interest (ROI)\n",
        "gdf= gpd.read_file('/content/Hetauda.shp')\n",
        "geo_json = gdf.__geo_interface__\n",
        "region= ee.Geometry.Polygon(geo_json['features'][0]['geometry']['coordinates'])\n",
        "#Running the Export for Specific Years\n",
        "years= range(2016,2025)\n",
        "for year in years:\n",
        "  export_dynamic_world(year,region)"
      ],
      "metadata": {
        "id": "5QHNgGKhQRfs"
      },
      "execution_count": null,
      "outputs": []
    }
  ]
}